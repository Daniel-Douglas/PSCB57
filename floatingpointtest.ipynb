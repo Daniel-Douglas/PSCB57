{
 "cells": [
  {
   "cell_type": "code",
   "execution_count": 78,
   "metadata": {},
   "outputs": [],
   "source": [
    "import random\n",
    "import numpy as np"
   ]
  },
  {
   "cell_type": "code",
   "execution_count": 79,
   "metadata": {},
   "outputs": [],
   "source": [
    "def genTest():\n",
    "    if random.randint(0,1):\n",
    "        f1 = float(random.randint(1,99))/100.\n",
    "        print(\"%.5f    %.32f\"%(f1,f1))\n",
    "    else:\n",
    "        f2 = 0.\n",
    "        for i in range(3):\n",
    "            f2 += 2**(-float(random.randint(1,3)))\n",
    "        print(\"%.5f    %.32f\"%(f2,f2))        "
   ]
  },
  {
   "cell_type": "code",
   "execution_count": 80,
   "metadata": {},
   "outputs": [
    {
     "name": "stdout",
     "output_type": "stream",
     "text": [
      "0.07000    0.07000000000000000666133814775094\n",
      "0.50000    0.50000000000000000000000000000000\n",
      "0.31000    0.30999999999999999777955395074969\n",
      "0.75000    0.75000000000000000000000000000000\n",
      "0.08000    0.08000000000000000166533453693773\n",
      "0.96000    0.95999999999999996447286321199499\n",
      "0.89000    0.89000000000000001332267629550188\n",
      "0.87500    0.87500000000000000000000000000000\n",
      "0.62500    0.62500000000000000000000000000000\n",
      "0.73000    0.72999999999999998223643160599750\n"
     ]
    }
   ],
   "source": [
    "for i in range(10):\n",
    "    genTest()"
   ]
  },
  {
   "cell_type": "code",
   "execution_count": 134,
   "metadata": {},
   "outputs": [],
   "source": [
    "def genTest2():\n",
    "    c = random.randint(0,1) \n",
    "    if c==0:\n",
    "        d1, d2 = random.randint(1,9), float(random.randint(300,309))\n",
    "    elif c==1:\n",
    "        d1, d2 = random.randint(1,9), float(random.randint(-330,-320))\n",
    "    f1 = np.array(float(d1)*np.power(10.,d2))\n",
    "    \n",
    "    if f1==0.:\n",
    "        print(\"%d.0e%+d    0.0\"%(d1,d2))\n",
    "    else:\n",
    "        print(\"%d.0e%+d    %.32e\"%(d1,d2,f1))\n",
    "    \n"
   ]
  },
  {
   "cell_type": "code",
   "execution_count": 135,
   "metadata": {},
   "outputs": [
    {
     "name": "stdout",
     "output_type": "stream",
     "text": [
      "2.0e-324    0.0\n",
      "2.0e+308    inf\n",
      "4.0e-322    3.95252516672997235341255034294577e-322\n",
      "3.0e-327    0.0\n",
      "1.0e+301    1.00000000000000005250476025520442e+301\n",
      "4.0e-328    0.0\n",
      "8.0e+308    inf\n",
      "6.0e-324    0.0\n",
      "2.0e+305    1.99999999999999987850710501107292e+305\n",
      "3.0e-330    0.0\n"
     ]
    },
    {
     "name": "stderr",
     "output_type": "stream",
     "text": [
      "/Users/rein/Dropbox/Teaching/PSCB57/notebooks/venv/lib/python3.5/site-packages/ipykernel_launcher.py:7: RuntimeWarning: overflow encountered in double_scalars\n",
      "  import sys\n"
     ]
    }
   ],
   "source": [
    "for i in range(10):\n",
    "    genTest2()"
   ]
  },
  {
   "cell_type": "code",
   "execution_count": null,
   "metadata": {
    "collapsed": true
   },
   "outputs": [],
   "source": []
  }
 ],
 "metadata": {
  "kernelspec": {
   "display_name": "Python 3",
   "language": "python",
   "name": "python3"
  },
  "language_info": {
   "codemirror_mode": {
    "name": "ipython",
    "version": 3
   },
   "file_extension": ".py",
   "mimetype": "text/x-python",
   "name": "python",
   "nbconvert_exporter": "python",
   "pygments_lexer": "ipython3",
   "version": "3.5.2"
  }
 },
 "nbformat": 4,
 "nbformat_minor": 2
}
