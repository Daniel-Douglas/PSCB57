{
 "cells": [
  {
   "cell_type": "code",
   "execution_count": 103,
   "metadata": {
    "collapsed": true
   },
   "outputs": [],
   "source": [
    "import random\n",
    "import numpy as np\n",
    "import struct"
   ]
  },
  {
   "cell_type": "code",
   "execution_count": 104,
   "metadata": {
    "collapsed": true
   },
   "outputs": [],
   "source": [
    "def fextract(num):\n",
    "    return ''.join(bin(c).replace('0b', '').rjust(8, '0') for c in struct.pack('!d', num))"
   ]
  },
  {
   "cell_type": "code",
   "execution_count": 105,
   "metadata": {
    "collapsed": true
   },
   "outputs": [],
   "source": [
    "def genTest():\n",
    "    if random.randint(0,1):\n",
    "        f = float(random.randint(1,99))/100.\n",
    "    else:\n",
    "        f = 0.\n",
    "        for i in range(3):\n",
    "            f += 2**(-float(random.randint(1,3)))\n",
    "    b = fextract(f)            \n",
    "    print(\"%.5f    %.20f    %s %s %s \"%(f,f,b[0],b[1:12],b[12:]))        "
   ]
  },
  {
   "cell_type": "code",
   "execution_count": 106,
   "metadata": {},
   "outputs": [
    {
     "name": "stdout",
     "output_type": "stream",
     "text": [
      "0.74000    0.73999999999999999112    0 01111111110 0111101011100001010001111010111000010100011110101110 \n",
      "0.87500    0.87500000000000000000    0 01111111110 1100000000000000000000000000000000000000000000000000 \n",
      "0.75000    0.75000000000000000000    0 01111111110 1000000000000000000000000000000000000000000000000000 \n",
      "0.75000    0.75000000000000000000    0 01111111110 1000000000000000000000000000000000000000000000000000 \n",
      "0.50000    0.50000000000000000000    0 01111111110 0000000000000000000000000000000000000000000000000000 \n",
      "0.87500    0.87500000000000000000    0 01111111110 1100000000000000000000000000000000000000000000000000 \n",
      "1.25000    1.25000000000000000000    0 01111111111 0100000000000000000000000000000000000000000000000000 \n",
      "1.25000    1.25000000000000000000    0 01111111111 0100000000000000000000000000000000000000000000000000 \n",
      "0.87500    0.87500000000000000000    0 01111111110 1100000000000000000000000000000000000000000000000000 \n",
      "0.75000    0.75000000000000000000    0 01111111110 1000000000000000000000000000000000000000000000000000 \n"
     ]
    }
   ],
   "source": [
    "for i in range(10):\n",
    "    genTest()"
   ]
  },
  {
   "cell_type": "code",
   "execution_count": 107,
   "metadata": {
    "collapsed": true
   },
   "outputs": [],
   "source": [
    "def genTest2():\n",
    "    c = random.randint(0,1) \n",
    "    if c==0:\n",
    "        d1, d2 = random.randint(1,9), float(random.randint(300,309))\n",
    "    elif c==1:\n",
    "        d1, d2 = random.randint(1,9), float(random.randint(-330,-320))\n",
    "    f = np.array(float(d1)*np.power(10.,d2))\n",
    "   \n",
    "    b = fextract(f)        \n",
    "    print(\"%d.0e%+d    %12.3e    %s %s %s\"%(d1,d2,f,b[0],b[1:12],b[12:]))        "
   ]
  },
  {
   "cell_type": "code",
   "execution_count": 108,
   "metadata": {},
   "outputs": [
    {
     "name": "stdout",
     "output_type": "stream",
     "text": [
      "5.0e+309             inf    0 11111111111 0000000000000000000000000000000000000000000000000000\n",
      "9.0e+302      9.000e+302    0 11111101101 0100111111111001100100110011100010000110011101011110\n",
      "1.0e-324       0.000e+00    0 00000000000 0000000000000000000000000000000000000000000000000000\n",
      "5.0e+305      5.000e+305    0 11111110110 0110110010001110010111001010001000111001000000101000\n",
      "8.0e-321      7.984e-321    0 00000000000 0000000000000000000000000000000000000000011001010000\n",
      "2.0e-328       0.000e+00    0 00000000000 0000000000000000000000000000000000000000000000000000\n",
      "4.0e+305      4.000e+305    0 11111110110 0010001110100101000101101110100000101101100110111010\n",
      "9.0e+306      9.000e+306    0 11111111010 1001101000100000001010000011011010000000001000101110\n",
      "4.0e+301      4.000e+301    0 11111101000 1101110111010100101110101010000000001001001100000011\n",
      "1.0e-328       0.000e+00    0 00000000000 0000000000000000000000000000000000000000000000000000\n"
     ]
    },
    {
     "name": "stderr",
     "output_type": "stream",
     "text": [
      "/Users/rein/Dropbox/Teaching/PSCB57/notebooks/venv/lib/python3.5/site-packages/ipykernel_launcher.py:7: RuntimeWarning: overflow encountered in power\n",
      "  import sys\n"
     ]
    }
   ],
   "source": [
    "for i in range(10):\n",
    "    genTest2()"
   ]
  },
  {
   "cell_type": "code",
   "execution_count": null,
   "metadata": {
    "collapsed": true
   },
   "outputs": [],
   "source": []
  },
  {
   "cell_type": "code",
   "execution_count": null,
   "metadata": {
    "collapsed": true
   },
   "outputs": [],
   "source": []
  }
 ],
 "metadata": {
  "kernelspec": {
   "display_name": "Python 3",
   "language": "python",
   "name": "python3"
  },
  "language_info": {
   "codemirror_mode": {
    "name": "ipython",
    "version": 3
   },
   "file_extension": ".py",
   "mimetype": "text/x-python",
   "name": "python",
   "nbconvert_exporter": "python",
   "pygments_lexer": "ipython3",
   "version": "3.5.2"
  }
 },
 "nbformat": 4,
 "nbformat_minor": 2
}
